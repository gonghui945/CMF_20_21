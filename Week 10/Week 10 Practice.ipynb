{
 "cells": [
  {
   "cell_type": "markdown",
   "metadata": {},
   "source": [
    "# Week 10 Practice"
   ]
  },
  {
   "cell_type": "code",
   "execution_count": 1,
   "metadata": {},
   "outputs": [],
   "source": [
    "import numpy as np\n",
    "import pandas as pd\n",
    "import matplotlib.pyplot as plt\n",
    "import scipy.stats as si\n",
    "import yfinance as yf\n",
    "import os"
   ]
  },
  {
   "cell_type": "markdown",
   "metadata": {},
   "source": [
    "## Historical Volatility"
   ]
  },
  {
   "cell_type": "markdown",
   "metadata": {},
   "source": [
    "The histotical volatility of Tesla, Inc."
   ]
  },
  {
   "cell_type": "code",
   "execution_count": 2,
   "metadata": {},
   "outputs": [
    {
     "name": "stdout",
     "output_type": "stream",
     "text": [
      "[*********************100%***********************]  1 of 1 completed\n"
     ]
    }
   ],
   "source": [
    "TSLA = yf.download(\"TSLA\", start=\"2020-04-01\", end=\"2021-04-02\")"
   ]
  },
  {
   "cell_type": "code",
   "execution_count": 3,
   "metadata": {},
   "outputs": [
    {
     "name": "stdout",
     "output_type": "stream",
     "text": [
      "The spot price is $ 661.75 .\n"
     ]
    }
   ],
   "source": [
    "S = TSLA['Adj Close'][-1]\n",
    "print('The spot price is $', round(S,2), '.')"
   ]
  },
  {
   "cell_type": "code",
   "execution_count": 4,
   "metadata": {},
   "outputs": [
    {
     "name": "stdout",
     "output_type": "stream",
     "text": [
      "The annualised volatility is 76.4 %\n"
     ]
    }
   ],
   "source": [
    "log_return = np.log(TSLA['Adj Close'] / TSLA['Adj Close'].shift(1))\n",
    "vol_h = np.sqrt(252) * log_return.std()\n",
    "print('The annualised volatility is', round(vol_h*100,2), '%')"
   ]
  },
  {
   "cell_type": "markdown",
   "metadata": {},
   "source": [
    "## Market Volatility"
   ]
  },
  {
   "cell_type": "markdown",
   "metadata": {},
   "source": [
    "The market volatility, VIX,  is the ticker symbol and the popular name for the Chicago Board Options Exchange's CBOE Volatility Index, a popular measure of the stock market's expectation of volatility based on S&P 500 index options."
   ]
  },
  {
   "cell_type": "code",
   "execution_count": 5,
   "metadata": {},
   "outputs": [
    {
     "name": "stdout",
     "output_type": "stream",
     "text": [
      "[*********************100%***********************]  1 of 1 completed\n"
     ]
    }
   ],
   "source": [
    "VIX = yf.download(\"^VIX\", start=\"2020-04-01\", end=\"2021-04-02\")"
   ]
  },
  {
   "cell_type": "code",
   "execution_count": 6,
   "metadata": {},
   "outputs": [
    {
     "data": {
      "text/html": [
       "<div>\n",
       "<style scoped>\n",
       "    .dataframe tbody tr th:only-of-type {\n",
       "        vertical-align: middle;\n",
       "    }\n",
       "\n",
       "    .dataframe tbody tr th {\n",
       "        vertical-align: top;\n",
       "    }\n",
       "\n",
       "    .dataframe thead th {\n",
       "        text-align: right;\n",
       "    }\n",
       "</style>\n",
       "<table border=\"1\" class=\"dataframe\">\n",
       "  <thead>\n",
       "    <tr style=\"text-align: right;\">\n",
       "      <th></th>\n",
       "      <th>Open</th>\n",
       "      <th>High</th>\n",
       "      <th>Low</th>\n",
       "      <th>Close</th>\n",
       "      <th>Adj Close</th>\n",
       "      <th>Volume</th>\n",
       "    </tr>\n",
       "    <tr>\n",
       "      <th>Date</th>\n",
       "      <th></th>\n",
       "      <th></th>\n",
       "      <th></th>\n",
       "      <th></th>\n",
       "      <th></th>\n",
       "      <th></th>\n",
       "    </tr>\n",
       "  </thead>\n",
       "  <tbody>\n",
       "    <tr>\n",
       "      <th>2020-03-31</th>\n",
       "      <td>56.689999</td>\n",
       "      <td>58.750000</td>\n",
       "      <td>50.880001</td>\n",
       "      <td>53.540001</td>\n",
       "      <td>53.540001</td>\n",
       "      <td>0</td>\n",
       "    </tr>\n",
       "    <tr>\n",
       "      <th>2020-04-01</th>\n",
       "      <td>57.380001</td>\n",
       "      <td>60.590000</td>\n",
       "      <td>52.759998</td>\n",
       "      <td>57.060001</td>\n",
       "      <td>57.060001</td>\n",
       "      <td>0</td>\n",
       "    </tr>\n",
       "    <tr>\n",
       "      <th>2020-04-02</th>\n",
       "      <td>54.459999</td>\n",
       "      <td>57.240002</td>\n",
       "      <td>50.450001</td>\n",
       "      <td>50.910000</td>\n",
       "      <td>50.910000</td>\n",
       "      <td>0</td>\n",
       "    </tr>\n",
       "    <tr>\n",
       "      <th>2020-04-03</th>\n",
       "      <td>51.110001</td>\n",
       "      <td>52.290001</td>\n",
       "      <td>46.740002</td>\n",
       "      <td>46.799999</td>\n",
       "      <td>46.799999</td>\n",
       "      <td>0</td>\n",
       "    </tr>\n",
       "    <tr>\n",
       "      <th>2020-04-06</th>\n",
       "      <td>44.169998</td>\n",
       "      <td>45.730000</td>\n",
       "      <td>43.450001</td>\n",
       "      <td>45.240002</td>\n",
       "      <td>45.240002</td>\n",
       "      <td>0</td>\n",
       "    </tr>\n",
       "    <tr>\n",
       "      <th>...</th>\n",
       "      <td>...</td>\n",
       "      <td>...</td>\n",
       "      <td>...</td>\n",
       "      <td>...</td>\n",
       "      <td>...</td>\n",
       "      <td>...</td>\n",
       "    </tr>\n",
       "    <tr>\n",
       "      <th>2021-03-26</th>\n",
       "      <td>19.320000</td>\n",
       "      <td>21.490000</td>\n",
       "      <td>18.680000</td>\n",
       "      <td>18.860001</td>\n",
       "      <td>18.860001</td>\n",
       "      <td>0</td>\n",
       "    </tr>\n",
       "    <tr>\n",
       "      <th>2021-03-29</th>\n",
       "      <td>20.400000</td>\n",
       "      <td>21.600000</td>\n",
       "      <td>19.420000</td>\n",
       "      <td>20.740000</td>\n",
       "      <td>20.740000</td>\n",
       "      <td>0</td>\n",
       "    </tr>\n",
       "    <tr>\n",
       "      <th>2021-03-30</th>\n",
       "      <td>20.760000</td>\n",
       "      <td>21.750000</td>\n",
       "      <td>19.469999</td>\n",
       "      <td>19.610001</td>\n",
       "      <td>19.610001</td>\n",
       "      <td>0</td>\n",
       "    </tr>\n",
       "    <tr>\n",
       "      <th>2021-03-31</th>\n",
       "      <td>19.799999</td>\n",
       "      <td>20.110001</td>\n",
       "      <td>18.850000</td>\n",
       "      <td>19.400000</td>\n",
       "      <td>19.400000</td>\n",
       "      <td>0</td>\n",
       "    </tr>\n",
       "    <tr>\n",
       "      <th>2021-04-01</th>\n",
       "      <td>18.600000</td>\n",
       "      <td>18.639999</td>\n",
       "      <td>17.290001</td>\n",
       "      <td>17.330000</td>\n",
       "      <td>17.330000</td>\n",
       "      <td>0</td>\n",
       "    </tr>\n",
       "  </tbody>\n",
       "</table>\n",
       "<p>254 rows × 6 columns</p>\n",
       "</div>"
      ],
      "text/plain": [
       "                 Open       High        Low      Close  Adj Close  Volume\n",
       "Date                                                                     \n",
       "2020-03-31  56.689999  58.750000  50.880001  53.540001  53.540001       0\n",
       "2020-04-01  57.380001  60.590000  52.759998  57.060001  57.060001       0\n",
       "2020-04-02  54.459999  57.240002  50.450001  50.910000  50.910000       0\n",
       "2020-04-03  51.110001  52.290001  46.740002  46.799999  46.799999       0\n",
       "2020-04-06  44.169998  45.730000  43.450001  45.240002  45.240002       0\n",
       "...               ...        ...        ...        ...        ...     ...\n",
       "2021-03-26  19.320000  21.490000  18.680000  18.860001  18.860001       0\n",
       "2021-03-29  20.400000  21.600000  19.420000  20.740000  20.740000       0\n",
       "2021-03-30  20.760000  21.750000  19.469999  19.610001  19.610001       0\n",
       "2021-03-31  19.799999  20.110001  18.850000  19.400000  19.400000       0\n",
       "2021-04-01  18.600000  18.639999  17.290001  17.330000  17.330000       0\n",
       "\n",
       "[254 rows x 6 columns]"
      ]
     },
     "execution_count": 6,
     "metadata": {},
     "output_type": "execute_result"
    }
   ],
   "source": [
    "VIX"
   ]
  },
  {
   "cell_type": "code",
   "execution_count": 7,
   "metadata": {},
   "outputs": [
    {
     "name": "stdout",
     "output_type": "stream",
     "text": [
      "The market volatility is 17.33 % .\n"
     ]
    }
   ],
   "source": [
    "print('The market volatility is', round(VIX['Adj Close'][-1],2) , '% .') "
   ]
  },
  {
   "cell_type": "markdown",
   "metadata": {},
   "source": [
    "## Volatility Smile"
   ]
  },
  {
   "cell_type": "markdown",
   "metadata": {},
   "source": [
    "Volatility smiles are implied volatility patterns that arise in pricing financial options. It corresponds to finding one single parameter (implied volatility) that is needed to be modified for the Black–Scholes formula to fit market prices. "
   ]
  },
  {
   "cell_type": "code",
   "execution_count": 8,
   "metadata": {},
   "outputs": [],
   "source": [
    "def newton_vol_call(S, K, T, C, r):\n",
    "    \n",
    "    #S: spot price\n",
    "    #K: strike price\n",
    "    #T: time to maturity\n",
    "    #C: Call value\n",
    "    #r: risk free rate\n",
    "    #sigma: volatility of underlying asset\n",
    "   \n",
    "    MAX_ITERATIONS = 1000\n",
    "    tolerance = 0.000001\n",
    "    \n",
    "    sigma = 0.25\n",
    "    \n",
    "    for i in range(0, MAX_ITERATIONS):\n",
    "        d1 = (np.log(S / K) + (r + 0.5 * sigma ** 2) * T) / (sigma * np.sqrt(T))\n",
    "        d2 = (np.log(S / K) + (r - 0.5 * sigma ** 2) * T) / (sigma * np.sqrt(T))\n",
    "        price = S * si.norm.cdf(d1, 0.0, 1.0) - K * np.exp(-r * T) * si.norm.cdf(d2, 0.0, 1.0)\n",
    "        vega = S * np.sqrt(T) * si.norm.pdf(d1, 0.0, 1.0)\n",
    "\n",
    "        diff = C - price\n",
    "\n",
    "        if (abs(diff) < tolerance):\n",
    "            return sigma\n",
    "        else: \n",
    "            sigma = sigma + diff/vega\n",
    "        \n",
    "        # print(i,sigma,diff)\n",
    "        \n",
    "    return sigma"
   ]
  },
  {
   "cell_type": "markdown",
   "metadata": {},
   "source": [
    "Download the Tesla option data."
   ]
  },
  {
   "cell_type": "code",
   "execution_count": 9,
   "metadata": {},
   "outputs": [
    {
     "data": {
      "text/html": [
       "<div>\n",
       "<style scoped>\n",
       "    .dataframe tbody tr th:only-of-type {\n",
       "        vertical-align: middle;\n",
       "    }\n",
       "\n",
       "    .dataframe tbody tr th {\n",
       "        vertical-align: top;\n",
       "    }\n",
       "\n",
       "    .dataframe thead th {\n",
       "        text-align: right;\n",
       "    }\n",
       "</style>\n",
       "<table border=\"1\" class=\"dataframe\">\n",
       "  <thead>\n",
       "    <tr style=\"text-align: right;\">\n",
       "      <th></th>\n",
       "      <th>contractSymbol</th>\n",
       "      <th>lastTradeDate</th>\n",
       "      <th>strike</th>\n",
       "      <th>lastPrice</th>\n",
       "      <th>bid</th>\n",
       "      <th>ask</th>\n",
       "      <th>change</th>\n",
       "      <th>percentChange</th>\n",
       "      <th>volume</th>\n",
       "      <th>openInterest</th>\n",
       "      <th>impliedVolatility</th>\n",
       "      <th>inTheMoney</th>\n",
       "      <th>contractSize</th>\n",
       "      <th>currency</th>\n",
       "    </tr>\n",
       "  </thead>\n",
       "  <tbody>\n",
       "    <tr>\n",
       "      <th>0</th>\n",
       "      <td>TSLA210430C00400000</td>\n",
       "      <td>2021-03-31 13:41:43</td>\n",
       "      <td>400.0</td>\n",
       "      <td>254.30</td>\n",
       "      <td>259.05</td>\n",
       "      <td>266.85</td>\n",
       "      <td>0.000000</td>\n",
       "      <td>0.000000</td>\n",
       "      <td>1</td>\n",
       "      <td>5</td>\n",
       "      <td>0.906007</td>\n",
       "      <td>True</td>\n",
       "      <td>REGULAR</td>\n",
       "      <td>USD</td>\n",
       "    </tr>\n",
       "    <tr>\n",
       "      <th>1</th>\n",
       "      <td>TSLA210430C00410000</td>\n",
       "      <td>2021-04-01 15:01:28</td>\n",
       "      <td>410.0</td>\n",
       "      <td>264.95</td>\n",
       "      <td>249.25</td>\n",
       "      <td>256.90</td>\n",
       "      <td>14.650009</td>\n",
       "      <td>5.852980</td>\n",
       "      <td>2</td>\n",
       "      <td>10</td>\n",
       "      <td>0.881105</td>\n",
       "      <td>True</td>\n",
       "      <td>REGULAR</td>\n",
       "      <td>USD</td>\n",
       "    </tr>\n",
       "    <tr>\n",
       "      <th>2</th>\n",
       "      <td>TSLA210430C00450000</td>\n",
       "      <td>2021-03-31 19:14:07</td>\n",
       "      <td>450.0</td>\n",
       "      <td>223.84</td>\n",
       "      <td>211.30</td>\n",
       "      <td>219.15</td>\n",
       "      <td>0.000000</td>\n",
       "      <td>0.000000</td>\n",
       "      <td>6</td>\n",
       "      <td>9</td>\n",
       "      <td>0.879640</td>\n",
       "      <td>True</td>\n",
       "      <td>REGULAR</td>\n",
       "      <td>USD</td>\n",
       "    </tr>\n",
       "    <tr>\n",
       "      <th>3</th>\n",
       "      <td>TSLA210430C00470000</td>\n",
       "      <td>2021-04-01 19:55:32</td>\n",
       "      <td>470.0</td>\n",
       "      <td>195.30</td>\n",
       "      <td>191.80</td>\n",
       "      <td>200.30</td>\n",
       "      <td>46.550003</td>\n",
       "      <td>31.294119</td>\n",
       "      <td>1</td>\n",
       "      <td>4</td>\n",
       "      <td>0.837160</td>\n",
       "      <td>True</td>\n",
       "      <td>REGULAR</td>\n",
       "      <td>USD</td>\n",
       "    </tr>\n",
       "    <tr>\n",
       "      <th>4</th>\n",
       "      <td>TSLA210430C00480000</td>\n",
       "      <td>2021-03-23 14:08:17</td>\n",
       "      <td>480.0</td>\n",
       "      <td>137.34</td>\n",
       "      <td>182.05</td>\n",
       "      <td>191.05</td>\n",
       "      <td>0.000000</td>\n",
       "      <td>0.000000</td>\n",
       "      <td>2</td>\n",
       "      <td>3</td>\n",
       "      <td>0.817018</td>\n",
       "      <td>True</td>\n",
       "      <td>REGULAR</td>\n",
       "      <td>USD</td>\n",
       "    </tr>\n",
       "    <tr>\n",
       "      <th>...</th>\n",
       "      <td>...</td>\n",
       "      <td>...</td>\n",
       "      <td>...</td>\n",
       "      <td>...</td>\n",
       "      <td>...</td>\n",
       "      <td>...</td>\n",
       "      <td>...</td>\n",
       "      <td>...</td>\n",
       "      <td>...</td>\n",
       "      <td>...</td>\n",
       "      <td>...</td>\n",
       "      <td>...</td>\n",
       "      <td>...</td>\n",
       "      <td>...</td>\n",
       "    </tr>\n",
       "    <tr>\n",
       "      <th>93</th>\n",
       "      <td>TSLA210430C01150000</td>\n",
       "      <td>2021-03-26 19:47:28</td>\n",
       "      <td>1150.0</td>\n",
       "      <td>0.79</td>\n",
       "      <td>0.49</td>\n",
       "      <td>0.90</td>\n",
       "      <td>0.100000</td>\n",
       "      <td>14.492758</td>\n",
       "      <td>2</td>\n",
       "      <td>5</td>\n",
       "      <td>0.842287</td>\n",
       "      <td>False</td>\n",
       "      <td>REGULAR</td>\n",
       "      <td>USD</td>\n",
       "    </tr>\n",
       "    <tr>\n",
       "      <th>94</th>\n",
       "      <td>TSLA210430C01175000</td>\n",
       "      <td>2021-04-01 19:24:21</td>\n",
       "      <td>1175.0</td>\n",
       "      <td>0.53</td>\n",
       "      <td>0.00</td>\n",
       "      <td>0.91</td>\n",
       "      <td>-0.010000</td>\n",
       "      <td>-1.851861</td>\n",
       "      <td>2</td>\n",
       "      <td>4</td>\n",
       "      <td>0.826174</td>\n",
       "      <td>False</td>\n",
       "      <td>REGULAR</td>\n",
       "      <td>USD</td>\n",
       "    </tr>\n",
       "    <tr>\n",
       "      <th>95</th>\n",
       "      <td>TSLA210430C01200000</td>\n",
       "      <td>2021-04-01 19:21:14</td>\n",
       "      <td>1200.0</td>\n",
       "      <td>0.51</td>\n",
       "      <td>0.00</td>\n",
       "      <td>0.69</td>\n",
       "      <td>-0.070000</td>\n",
       "      <td>-12.068965</td>\n",
       "      <td>11</td>\n",
       "      <td>85</td>\n",
       "      <td>0.825685</td>\n",
       "      <td>False</td>\n",
       "      <td>REGULAR</td>\n",
       "      <td>USD</td>\n",
       "    </tr>\n",
       "    <tr>\n",
       "      <th>96</th>\n",
       "      <td>TSLA210430C01225000</td>\n",
       "      <td>2021-04-01 14:10:18</td>\n",
       "      <td>1225.0</td>\n",
       "      <td>0.59</td>\n",
       "      <td>0.00</td>\n",
       "      <td>0.62</td>\n",
       "      <td>0.050000</td>\n",
       "      <td>9.259250</td>\n",
       "      <td>19</td>\n",
       "      <td>60</td>\n",
       "      <td>0.840334</td>\n",
       "      <td>False</td>\n",
       "      <td>REGULAR</td>\n",
       "      <td>USD</td>\n",
       "    </tr>\n",
       "    <tr>\n",
       "      <th>97</th>\n",
       "      <td>TSLA210430C01275000</td>\n",
       "      <td>2021-04-01 18:34:54</td>\n",
       "      <td>1275.0</td>\n",
       "      <td>0.41</td>\n",
       "      <td>0.31</td>\n",
       "      <td>0.50</td>\n",
       "      <td>-0.070000</td>\n",
       "      <td>-14.583333</td>\n",
       "      <td>94</td>\n",
       "      <td>157</td>\n",
       "      <td>0.913087</td>\n",
       "      <td>False</td>\n",
       "      <td>REGULAR</td>\n",
       "      <td>USD</td>\n",
       "    </tr>\n",
       "  </tbody>\n",
       "</table>\n",
       "<p>98 rows × 14 columns</p>\n",
       "</div>"
      ],
      "text/plain": [
       "         contractSymbol       lastTradeDate  strike  lastPrice     bid  \\\n",
       "0   TSLA210430C00400000 2021-03-31 13:41:43   400.0     254.30  259.05   \n",
       "1   TSLA210430C00410000 2021-04-01 15:01:28   410.0     264.95  249.25   \n",
       "2   TSLA210430C00450000 2021-03-31 19:14:07   450.0     223.84  211.30   \n",
       "3   TSLA210430C00470000 2021-04-01 19:55:32   470.0     195.30  191.80   \n",
       "4   TSLA210430C00480000 2021-03-23 14:08:17   480.0     137.34  182.05   \n",
       "..                  ...                 ...     ...        ...     ...   \n",
       "93  TSLA210430C01150000 2021-03-26 19:47:28  1150.0       0.79    0.49   \n",
       "94  TSLA210430C01175000 2021-04-01 19:24:21  1175.0       0.53    0.00   \n",
       "95  TSLA210430C01200000 2021-04-01 19:21:14  1200.0       0.51    0.00   \n",
       "96  TSLA210430C01225000 2021-04-01 14:10:18  1225.0       0.59    0.00   \n",
       "97  TSLA210430C01275000 2021-04-01 18:34:54  1275.0       0.41    0.31   \n",
       "\n",
       "       ask     change  percentChange  volume  openInterest  impliedVolatility  \\\n",
       "0   266.85   0.000000       0.000000       1             5           0.906007   \n",
       "1   256.90  14.650009       5.852980       2            10           0.881105   \n",
       "2   219.15   0.000000       0.000000       6             9           0.879640   \n",
       "3   200.30  46.550003      31.294119       1             4           0.837160   \n",
       "4   191.05   0.000000       0.000000       2             3           0.817018   \n",
       "..     ...        ...            ...     ...           ...                ...   \n",
       "93    0.90   0.100000      14.492758       2             5           0.842287   \n",
       "94    0.91  -0.010000      -1.851861       2             4           0.826174   \n",
       "95    0.69  -0.070000     -12.068965      11            85           0.825685   \n",
       "96    0.62   0.050000       9.259250      19            60           0.840334   \n",
       "97    0.50  -0.070000     -14.583333      94           157           0.913087   \n",
       "\n",
       "    inTheMoney contractSize currency  \n",
       "0         True      REGULAR      USD  \n",
       "1         True      REGULAR      USD  \n",
       "2         True      REGULAR      USD  \n",
       "3         True      REGULAR      USD  \n",
       "4         True      REGULAR      USD  \n",
       "..         ...          ...      ...  \n",
       "93       False      REGULAR      USD  \n",
       "94       False      REGULAR      USD  \n",
       "95       False      REGULAR      USD  \n",
       "96       False      REGULAR      USD  \n",
       "97       False      REGULAR      USD  \n",
       "\n",
       "[98 rows x 14 columns]"
      ]
     },
     "execution_count": 9,
     "metadata": {},
     "output_type": "execute_result"
    }
   ],
   "source": [
    "TESLA = yf.Ticker(\"TSLA\")\n",
    "opt = TESLA.option_chain('2021-04-30')\n",
    "opt.calls"
   ]
  },
  {
   "cell_type": "code",
   "execution_count": 10,
   "metadata": {},
   "outputs": [
    {
     "name": "stdout",
     "output_type": "stream",
     "text": [
      "The implied volatility is 64.02 % for the one-month call with strike $ 660\n"
     ]
    }
   ],
   "source": [
    "impvol = newton_vol_call(S,661.75, 1/12, float(opt.calls.lastPrice[opt.calls.strike == 660]), 0.0169)\n",
    "print('The implied volatility is', round(impvol*100,2) , '% for the one-month call with strike $ 660' ) "
   ]
  },
  {
   "cell_type": "code",
   "execution_count": 11,
   "metadata": {},
   "outputs": [],
   "source": [
    "import mibian"
   ]
  },
  {
   "cell_type": "code",
   "execution_count": 12,
   "metadata": {},
   "outputs": [
    {
     "name": "stdout",
     "output_type": "stream",
     "text": [
      "The implied volatility is 65.64 % for the one-month call with strike $ 660\n"
     ]
    }
   ],
   "source": [
    "c = mibian.BS([S, 660, 1.69, 28], callPrice = float(opt.calls.lastPrice[opt.calls.strike == 660]))\n",
    "c.impliedVolatility\n",
    "print('The implied volatility is', round(c.impliedVolatility,2) , '% for the one-month call with strike $ 660' ) "
   ]
  },
  {
   "cell_type": "code",
   "execution_count": 13,
   "metadata": {},
   "outputs": [],
   "source": [
    "impliedvol = np.zeros((len(opt.calls.strike),1))\n",
    "for i in range(len(opt.calls.strike)):\n",
    "    c = mibian.BS([S, opt.calls.strike[i], 1.69, 30], callPrice = opt.calls.lastPrice[i])\n",
    "    impliedvol [i] = c.impliedVolatility"
   ]
  },
  {
   "cell_type": "code",
   "execution_count": 14,
   "metadata": {},
   "outputs": [
    {
     "data": {
      "text/plain": [
       "Text(0.5, 1.0, 'Volatility Smile')"
      ]
     },
     "execution_count": 14,
     "metadata": {},
     "output_type": "execute_result"
    },
    {
     "data": {
      "image/png": "[encoded data removed]",
      "text/plain": [
       "<Figure size 432x288 with 1 Axes>"
      ]
     },
     "metadata": {
      "needs_background": "light"
     },
     "output_type": "display_data"
    }
   ],
   "source": [
    "fig = plt.figure()\n",
    "plt.plot(opt.calls.strike[20:60], impliedvol[20:60], '-')\n",
    "plt.xlabel('Strike Price')\n",
    "plt.ylabel('Implied Volatility (%)')\n",
    "plt.title('Volatility Smile')"
   ]
  },
  {
   "cell_type": "markdown",
   "metadata": {},
   "source": [
    "## Term structure of volatility"
   ]
  },
  {
   "cell_type": "markdown",
   "metadata": {},
   "source": [
    "Volatility term structures list the relationship between implied volatilities and time to expiration."
   ]
  },
  {
   "cell_type": "code",
   "execution_count": 15,
   "metadata": {},
   "outputs": [
    {
     "name": "stdout",
     "output_type": "stream",
     "text": [
      "Requirement already up-to-date: arrow in c:\\users\\gongh\\anaconda3\\lib\\site-packages (1.0.3)\n",
      "Requirement already satisfied, skipping upgrade: python-dateutil>=2.7.0 in c:\\users\\gongh\\anaconda3\\lib\\site-packages (from arrow) (2.8.1)\n",
      "Requirement already satisfied, skipping upgrade: six>=1.5 in c:\\users\\gongh\\anaconda3\\lib\\site-packages (from python-dateutil>=2.7.0->arrow) (1.15.0)\n",
      "Note: you may need to restart the kernel to use updated packages.\n"
     ]
    }
   ],
   "source": [
    "pip install -U arrow"
   ]
  },
  {
   "cell_type": "code",
   "execution_count": 16,
   "metadata": {},
   "outputs": [],
   "source": [
    "import arrow\n",
    "T = ['2021-04-09','2021-04-16','2021-04-23','2021-04-30','2021-05-07',\n",
    "     '2021-05-21','2021-06-18','2021-07-16','2021-09-17','2021-12-17',\n",
    "     '2022-01-21','2022-03-18','2022-06-17','2022-09-16','2023-01-20','2023-03-17']"
   ]
  },
  {
   "cell_type": "code",
   "execution_count": 17,
   "metadata": {},
   "outputs": [],
   "source": [
    "impliedvol_t = np.zeros((len(T),1))\n",
    "now = arrow.get('2021-04-02')\n",
    "days = np.zeros((len(T),1))\n",
    "for j in range(len(T)):\n",
    "    opt = TESLA.option_chain(T[j])\n",
    "    temp = arrow.get(T[j])\n",
    "    delta = temp - now\n",
    "    days[j] = delta.days\n",
    "    c = mibian.BS([S, 600, 1.63, days[j]], callPrice = float(opt.calls.lastPrice[opt.calls.strike==600]))\n",
    "    impliedvol_t [j] = c.impliedVolatility"
   ]
  },
  {
   "cell_type": "code",
   "execution_count": 18,
   "metadata": {},
   "outputs": [
    {
     "data": {
      "text/plain": [
       "Text(0.5, 1.0, 'Term structure of volatility')"
      ]
     },
     "execution_count": 18,
     "metadata": {},
     "output_type": "execute_result"
    },
    {
     "data": {
      "image/png": "[encoded data removed]",
      "text/plain": [
       "<Figure size 432x288 with 1 Axes>"
      ]
     },
     "metadata": {
      "needs_background": "light"
     },
     "output_type": "display_data"
    }
   ],
   "source": [
    "fig = plt.figure()\n",
    "plt.plot(days, impliedvol_t, '--')\n",
    "plt.xlabel('Time to Expiry (Days)')\n",
    "plt.ylabel('Implied Volatility (%)')\n",
    "plt.title('Term structure of volatility')"
   ]
  },
  {
   "cell_type": "markdown",
   "metadata": {},
   "source": [
    "## Implied volatility surface"
   ]
  },
  {
   "cell_type": "markdown",
   "metadata": {},
   "source": [
    "It is often useful to plot implied volatility as a function of both strike price and time to maturity. The result is a two-dimensional curved surface plotted in three dimensions whereby the current market implied volatility (z-axis) for all options on the underlying is plotted against the price (y-axis) and time to maturity (x-axis \"DTM\"). "
   ]
  },
  {
   "cell_type": "code",
   "execution_count": 19,
   "metadata": {},
   "outputs": [],
   "source": [
    "K = np.linspace(500,900,9)"
   ]
  },
  {
   "cell_type": "code",
   "execution_count": 20,
   "metadata": {},
   "outputs": [],
   "source": [
    "impliedvol_s = np.zeros((len(K),len(days)))\n",
    "for j in range(len(days)):\n",
    "    for i in range(len(K)):\n",
    "        opt = TESLA.option_chain(T[j])\n",
    "        c = mibian.BS([S, K[i], 1.69, days[j]], callPrice = float(opt.calls.lastPrice[opt.calls.strike == K[i]]))\n",
    "        impliedvol_s [i,j] = c.impliedVolatility"
   ]
  },
  {
   "cell_type": "code",
   "execution_count": 21,
   "metadata": {},
   "outputs": [
    {
     "data": {
      "text/plain": [
       "array([[1.19262695e+02, 1.00000000e-05, 8.78906250e+01, 7.81250000e+01,\n",
       "        9.08203125e+01, 7.21435547e+01, 6.90917969e+01, 7.64770508e+01,\n",
       "        6.45065308e+01, 6.51969910e+01, 6.76269531e+01, 6.57806396e+01,\n",
       "        6.57348633e+01, 6.77528381e+01, 6.64405823e+01, 6.88476562e+01],\n",
       "       [8.78906250e+01, 7.27539062e+01, 1.20361328e+02, 8.60290527e+01,\n",
       "        6.09283447e+01, 6.71386719e+01, 6.43692017e+01, 6.44226074e+01,\n",
       "        7.17239380e+01, 6.73217773e+01, 6.77032471e+01, 6.65893555e+01,\n",
       "        6.60095215e+01, 7.28874207e+01, 7.42149353e+01, 6.75354004e+01],\n",
       "       [3.71093750e+01, 6.29882812e+01, 6.64062500e+01, 6.92596436e+01,\n",
       "        6.72607422e+01, 6.58111572e+01, 6.34765625e+01, 6.34536743e+01,\n",
       "        6.43920898e+01, 6.98852539e+01, 6.50939941e+01, 6.64672852e+01,\n",
       "        7.51342773e+01, 6.83593750e+01, 6.67457581e+01, 6.82067871e+01],\n",
       "       [6.34765625e+01, 5.95703125e+01, 6.35986328e+01, 6.55517578e+01,\n",
       "        6.48193359e+01, 6.36062622e+01, 6.17675781e+01, 6.23168945e+01,\n",
       "        5.00000000e+02, 6.53076172e+01, 6.50024414e+01, 6.60171509e+01,\n",
       "        6.73828125e+01, 6.78405762e+01, 6.72645569e+01, 6.86988831e+01],\n",
       "       [5.85937500e+01, 5.67474365e+01, 6.08825684e+01, 6.33544922e+01,\n",
       "        6.18896484e+01, 6.15463257e+01, 6.02493286e+01, 6.07070923e+01,\n",
       "        6.35375977e+01, 6.68334961e+01, 6.51245117e+01, 6.69860840e+01,\n",
       "        6.69860840e+01, 6.84204102e+01, 6.81152344e+01, 6.82678223e+01],\n",
       "       [6.05468750e+01, 5.61523438e+01, 5.81054688e+01, 6.11419678e+01,\n",
       "        6.03027344e+01, 5.93795776e+01, 5.84716797e+01, 6.01196289e+01,\n",
       "        6.34155273e+01, 6.50939941e+01, 6.60781860e+01, 6.79321289e+01,\n",
       "        7.33947754e+01, 6.75048828e+01, 6.79206848e+01, 6.88171387e+01],\n",
       "       [6.98242188e+01, 5.95703125e+01, 5.85937500e+01, 5.97991943e+01,\n",
       "        5.95703125e+01, 5.76171875e+01, 5.70068359e+01, 5.93872070e+01,\n",
       "        6.22558594e+01, 6.51245117e+01, 6.56127930e+01, 6.69250488e+01,\n",
       "        6.90917969e+01, 7.13195801e+01, 6.88476562e+01, 6.92596436e+01],\n",
       "       [8.20312500e+01, 6.66503906e+01, 6.21337891e+01, 6.10961914e+01,\n",
       "        5.98144531e+01, 5.79528809e+01, 5.60302734e+01, 5.85937500e+01,\n",
       "        6.21719360e+01, 6.55059814e+01, 6.79512024e+01, 6.69326782e+01,\n",
       "        6.78100586e+01, 7.07092285e+01, 6.86206818e+01, 6.84051514e+01],\n",
       "       [9.17968750e+01, 7.47070312e+01, 6.62841797e+01, 6.34765625e+01,\n",
       "        6.15234375e+01, 5.88073730e+01, 5.60302734e+01, 5.85937500e+01,\n",
       "        6.17675781e+01, 6.50024414e+01, 6.57958984e+01, 6.69631958e+01,\n",
       "        6.76879883e+01, 7.51152039e+01, 6.88781738e+01, 6.93054199e+01]])"
      ]
     },
     "execution_count": 21,
     "metadata": {},
     "output_type": "execute_result"
    }
   ],
   "source": [
    "impliedvol_s"
   ]
  },
  {
   "cell_type": "code",
   "execution_count": 22,
   "metadata": {},
   "outputs": [
    {
     "data": {
      "text/plain": [
       "Text(0.5, 1.0, 'Volatility Smile')"
      ]
     },
     "execution_count": 22,
     "metadata": {},
     "output_type": "execute_result"
    },
    {
     "data": {
      "image/png": "[encoded data removed]",
      "text/plain": [
       "<Figure size 432x288 with 1 Axes>"
      ]
     },
     "metadata": {
      "needs_background": "light"
     },
     "output_type": "display_data"
    }
   ],
   "source": [
    "fig = plt.figure()\n",
    "plt.plot(K, impliedvol_s[:,0], '-')\n",
    "plt.xlabel('Strike Price')\n",
    "plt.ylabel('Implied Volatility (%)')\n",
    "plt.title('Volatility Smile')"
   ]
  },
  {
   "cell_type": "code",
   "execution_count": 23,
   "metadata": {},
   "outputs": [
    {
     "data": {
      "text/plain": [
       "Text(0.5, 1.0, 'Term structure of volatility')"
      ]
     },
     "execution_count": 23,
     "metadata": {},
     "output_type": "execute_result"
    },
    {
     "data": {
      "image/png": "[encoded data removed]",
      "text/plain": [
       "<Figure size 432x288 with 1 Axes>"
      ]
     },
     "metadata": {
      "needs_background": "light"
     },
     "output_type": "display_data"
    }
   ],
   "source": [
    "fig = plt.figure()\n",
    "plt.plot(days, impliedvol_s[0,:], '--')\n",
    "plt.xlabel('Time to Expiry (Days)')\n",
    "plt.ylabel('Implied Volatility (%)')\n",
    "plt.title('Term structure of volatility')"
   ]
  },
  {
   "cell_type": "code",
   "execution_count": 24,
   "metadata": {},
   "outputs": [
    {
     "data": {
      "image/png": "[encoded data removed]",
      "text/plain": [
       "<Figure size 720x432 with 2 Axes>"
      ]
     },
     "metadata": {
      "needs_background": "light"
     },
     "output_type": "display_data"
    }
   ],
   "source": [
    "fig = plt.figure(figsize=(10, 6))\n",
    "ax = fig.gca(projection='3d')\n",
    "K, days = np.meshgrid(K, days)\n",
    "surf = ax.plot_surface(K, days, impliedvol_s.T, rstride=2, cstride=2, cmap=plt.cm.coolwarm, linewidth=0.5, antialiased=True)\n",
    "ax.set_xlabel('Strike Price')\n",
    "ax.set_ylabel('Time to Expiry (Days)')\n",
    "ax.set_zlabel('Implied Volatility (%)')\n",
    "plt.title('The Volatility Surface')\n",
    "fig.colorbar(surf, shrink=0.5, aspect=5);"
   ]
  }
 ],
 "metadata": {
  "kernelspec": {
   "display_name": "Python 3",
   "language": "python",
   "name": "python3"
  },
  "language_info": {
   "codemirror_mode": {
    "name": "ipython",
    "version": 3
   },
   "file_extension": ".py",
   "mimetype": "text/x-python",
   "name": "python",
   "nbconvert_exporter": "python",
   "pygments_lexer": "ipython3",
   "version": "3.8.3"
  }
 },
 "nbformat": 4,
 "nbformat_minor": 4
}
