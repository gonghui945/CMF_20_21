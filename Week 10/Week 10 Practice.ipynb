{
 "cells": [
  {
   "cell_type": "markdown",
   "metadata": {},
   "source": [
    "# Week 10 Practice"
   ]
  },
  {
   "cell_type": "code",
   "execution_count": 1,
   "metadata": {},
   "outputs": [],
   "source": [
    "import numpy as np\n",
    "import pandas as pd\n",
    "import matplotlib.pyplot as plt\n",
    "import scipy.stats as si\n",
    "import yfinance as yf\n",
    "import os"
   ]
  },
  {
   "cell_type": "markdown",
   "metadata": {},
   "source": [
    "## Historical Volatility"
   ]
  },
  {
   "cell_type": "markdown",
   "metadata": {},
   "source": [
    "The histotical volatility of Tesla, Inc."
   ]
  },
  {
   "cell_type": "code",
   "execution_count": 2,
   "metadata": {},
   "outputs": [
    {
     "name": "stdout",
     "output_type": "stream",
     "text": [
      "[*********************100%***********************]  1 of 1 completed\n"
     ]
    }
   ],
   "source": [
    "TSLA = yf.download(\"TSLA\", start=\"2019-11-21\", end=\"2020-11-21\")"
   ]
  },
  {
   "cell_type": "code",
   "execution_count": 3,
   "metadata": {},
   "outputs": [
    {
     "name": "stdout",
     "output_type": "stream",
     "text": [
      "The spot price is $ 489.61 .\n"
     ]
    }
   ],
   "source": [
    "S = TSLA['Adj Close'][-1]\n",
    "print('The spot price is $', round(S,2), '.')"
   ]
  },
  {
   "cell_type": "code",
   "execution_count": 4,
   "metadata": {},
   "outputs": [
    {
     "name": "stdout",
     "output_type": "stream",
     "text": [
      "The annualised volatility is 88.37 %\n"
     ]
    }
   ],
   "source": [
    "log_return = np.log(TSLA['Adj Close'] / TSLA['Adj Close'].shift(1))\n",
    "vol_h = np.sqrt(252) * log_return.std()\n",
    "print('The annualised volatility is', round(vol_h*100,2), '%')"
   ]
  },
  {
   "cell_type": "markdown",
   "metadata": {},
   "source": [
    "## Market Volatility"
   ]
  },
  {
   "cell_type": "markdown",
   "metadata": {},
   "source": [
    "The market volatility, VIX,  is the ticker symbol and the popular name for the Chicago Board Options Exchange's CBOE Volatility Index, a popular measure of the stock market's expectation of volatility based on S&P 500 index options."
   ]
  },
  {
   "cell_type": "code",
   "execution_count": 5,
   "metadata": {},
   "outputs": [
    {
     "name": "stdout",
     "output_type": "stream",
     "text": [
      "[*********************100%***********************]  1 of 1 completed\n"
     ]
    }
   ],
   "source": [
    "VIX = yf.download(\"^VIX\", start=\"2019-11-21\", end=\"2020-11-21\")"
   ]
  },
  {
   "cell_type": "code",
   "execution_count": 6,
   "metadata": {},
   "outputs": [
    {
     "data": {
      "text/html": [
       "<div>\n",
       "<style scoped>\n",
       "    .dataframe tbody tr th:only-of-type {\n",
       "        vertical-align: middle;\n",
       "    }\n",
       "\n",
       "    .dataframe tbody tr th {\n",
       "        vertical-align: top;\n",
       "    }\n",
       "\n",
       "    .dataframe thead th {\n",
       "        text-align: right;\n",
       "    }\n",
       "</style>\n",
       "<table border=\"1\" class=\"dataframe\">\n",
       "  <thead>\n",
       "    <tr style=\"text-align: right;\">\n",
       "      <th></th>\n",
       "      <th>Open</th>\n",
       "      <th>High</th>\n",
       "      <th>Low</th>\n",
       "      <th>Close</th>\n",
       "      <th>Adj Close</th>\n",
       "      <th>Volume</th>\n",
       "    </tr>\n",
       "    <tr>\n",
       "      <th>Date</th>\n",
       "      <th></th>\n",
       "      <th></th>\n",
       "      <th></th>\n",
       "      <th></th>\n",
       "      <th></th>\n",
       "      <th></th>\n",
       "    </tr>\n",
       "  </thead>\n",
       "  <tbody>\n",
       "    <tr>\n",
       "      <th>2019-11-21</th>\n",
       "      <td>13.350000</td>\n",
       "      <td>13.86</td>\n",
       "      <td>12.490000</td>\n",
       "      <td>13.130000</td>\n",
       "      <td>13.130000</td>\n",
       "      <td>0</td>\n",
       "    </tr>\n",
       "    <tr>\n",
       "      <th>2019-11-22</th>\n",
       "      <td>12.820000</td>\n",
       "      <td>13.25</td>\n",
       "      <td>12.330000</td>\n",
       "      <td>12.340000</td>\n",
       "      <td>12.340000</td>\n",
       "      <td>0</td>\n",
       "    </tr>\n",
       "    <tr>\n",
       "      <th>2019-11-25</th>\n",
       "      <td>12.510000</td>\n",
       "      <td>12.59</td>\n",
       "      <td>11.730000</td>\n",
       "      <td>11.870000</td>\n",
       "      <td>11.870000</td>\n",
       "      <td>0</td>\n",
       "    </tr>\n",
       "    <tr>\n",
       "      <th>2019-11-26</th>\n",
       "      <td>11.880000</td>\n",
       "      <td>12.04</td>\n",
       "      <td>11.420000</td>\n",
       "      <td>11.540000</td>\n",
       "      <td>11.540000</td>\n",
       "      <td>0</td>\n",
       "    </tr>\n",
       "    <tr>\n",
       "      <th>2019-11-27</th>\n",
       "      <td>11.550000</td>\n",
       "      <td>11.79</td>\n",
       "      <td>11.440000</td>\n",
       "      <td>11.750000</td>\n",
       "      <td>11.750000</td>\n",
       "      <td>0</td>\n",
       "    </tr>\n",
       "    <tr>\n",
       "      <th>...</th>\n",
       "      <td>...</td>\n",
       "      <td>...</td>\n",
       "      <td>...</td>\n",
       "      <td>...</td>\n",
       "      <td>...</td>\n",
       "      <td>...</td>\n",
       "    </tr>\n",
       "    <tr>\n",
       "      <th>2020-11-16</th>\n",
       "      <td>23.660000</td>\n",
       "      <td>24.08</td>\n",
       "      <td>22.430000</td>\n",
       "      <td>22.450001</td>\n",
       "      <td>22.450001</td>\n",
       "      <td>0</td>\n",
       "    </tr>\n",
       "    <tr>\n",
       "      <th>2020-11-17</th>\n",
       "      <td>22.840000</td>\n",
       "      <td>24.09</td>\n",
       "      <td>22.340000</td>\n",
       "      <td>22.709999</td>\n",
       "      <td>22.709999</td>\n",
       "      <td>0</td>\n",
       "    </tr>\n",
       "    <tr>\n",
       "      <th>2020-11-18</th>\n",
       "      <td>22.860001</td>\n",
       "      <td>23.92</td>\n",
       "      <td>21.660000</td>\n",
       "      <td>23.840000</td>\n",
       "      <td>23.840000</td>\n",
       "      <td>0</td>\n",
       "    </tr>\n",
       "    <tr>\n",
       "      <th>2020-11-19</th>\n",
       "      <td>23.620001</td>\n",
       "      <td>24.52</td>\n",
       "      <td>22.559999</td>\n",
       "      <td>23.110001</td>\n",
       "      <td>23.110001</td>\n",
       "      <td>0</td>\n",
       "    </tr>\n",
       "    <tr>\n",
       "      <th>2020-11-20</th>\n",
       "      <td>23.430000</td>\n",
       "      <td>23.73</td>\n",
       "      <td>22.129999</td>\n",
       "      <td>23.700001</td>\n",
       "      <td>23.700001</td>\n",
       "      <td>0</td>\n",
       "    </tr>\n",
       "  </tbody>\n",
       "</table>\n",
       "<p>253 rows × 6 columns</p>\n",
       "</div>"
      ],
      "text/plain": [
       "                 Open   High        Low      Close  Adj Close  Volume\n",
       "Date                                                                 \n",
       "2019-11-21  13.350000  13.86  12.490000  13.130000  13.130000       0\n",
       "2019-11-22  12.820000  13.25  12.330000  12.340000  12.340000       0\n",
       "2019-11-25  12.510000  12.59  11.730000  11.870000  11.870000       0\n",
       "2019-11-26  11.880000  12.04  11.420000  11.540000  11.540000       0\n",
       "2019-11-27  11.550000  11.79  11.440000  11.750000  11.750000       0\n",
       "...               ...    ...        ...        ...        ...     ...\n",
       "2020-11-16  23.660000  24.08  22.430000  22.450001  22.450001       0\n",
       "2020-11-17  22.840000  24.09  22.340000  22.709999  22.709999       0\n",
       "2020-11-18  22.860001  23.92  21.660000  23.840000  23.840000       0\n",
       "2020-11-19  23.620001  24.52  22.559999  23.110001  23.110001       0\n",
       "2020-11-20  23.430000  23.73  22.129999  23.700001  23.700001       0\n",
       "\n",
       "[253 rows x 6 columns]"
      ]
     },
     "execution_count": 6,
     "metadata": {},
     "output_type": "execute_result"
    }
   ],
   "source": [
    "VIX"
   ]
  },
  {
   "cell_type": "code",
   "execution_count": 7,
   "metadata": {},
   "outputs": [
    {
     "name": "stdout",
     "output_type": "stream",
     "text": [
      "The market volatility is 23.7 % .\n"
     ]
    }
   ],
   "source": [
    "print('The market volatility is', round(VIX['Adj Close'][-1],2) , '% .') "
   ]
  },
  {
   "cell_type": "markdown",
   "metadata": {},
   "source": [
    "## Volatility Smile"
   ]
  },
  {
   "cell_type": "markdown",
   "metadata": {},
   "source": [
    "Volatility smiles are implied volatility patterns that arise in pricing financial options. It corresponds to finding one single parameter (implied volatility) that is needed to be modified for the Black–Scholes formula to fit market prices. "
   ]
  },
  {
   "cell_type": "code",
   "execution_count": 8,
   "metadata": {},
   "outputs": [],
   "source": [
    "def newton_vol_call(S, K, T, C, r):\n",
    "    \n",
    "    #S: spot price\n",
    "    #K: strike price\n",
    "    #T: time to maturity\n",
    "    #C: Call value\n",
    "    #r: risk free rate\n",
    "    #sigma: volatility of underlying asset\n",
    "   \n",
    "    MAX_ITERATIONS = 1000\n",
    "    tolerance = 0.000001\n",
    "    \n",
    "    sigma = 0.25\n",
    "    \n",
    "    for i in range(0, MAX_ITERATIONS):\n",
    "        d1 = (np.log(S / K) + (r + 0.5 * sigma ** 2) * T) / (sigma * np.sqrt(T))\n",
    "        d2 = (np.log(S / K) + (r - 0.5 * sigma ** 2) * T) / (sigma * np.sqrt(T))\n",
    "        price = S * si.norm.cdf(d1, 0.0, 1.0) - K * np.exp(-r * T) * si.norm.cdf(d2, 0.0, 1.0)\n",
    "        vega = S * np.sqrt(T) * si.norm.pdf(d1, 0.0, 1.0)\n",
    "\n",
    "        diff = C - price\n",
    "\n",
    "        if (abs(diff) < tolerance):\n",
    "            return sigma\n",
    "        else: \n",
    "            sigma = sigma + diff/vega\n",
    "        \n",
    "        # print(i,sigma,diff)\n",
    "        \n",
    "    return sigma"
   ]
  },
  {
   "cell_type": "markdown",
   "metadata": {},
   "source": [
    "Download the Tesla option data."
   ]
  },
  {
   "cell_type": "code",
   "execution_count": 9,
   "metadata": {},
   "outputs": [
    {
     "data": {
      "text/html": [
       "<div>\n",
       "<style scoped>\n",
       "    .dataframe tbody tr th:only-of-type {\n",
       "        vertical-align: middle;\n",
       "    }\n",
       "\n",
       "    .dataframe tbody tr th {\n",
       "        vertical-align: top;\n",
       "    }\n",
       "\n",
       "    .dataframe thead th {\n",
       "        text-align: right;\n",
       "    }\n",
       "</style>\n",
       "<table border=\"1\" class=\"dataframe\">\n",
       "  <thead>\n",
       "    <tr style=\"text-align: right;\">\n",
       "      <th></th>\n",
       "      <th>contractSymbol</th>\n",
       "      <th>lastTradeDate</th>\n",
       "      <th>strike</th>\n",
       "      <th>lastPrice</th>\n",
       "      <th>bid</th>\n",
       "      <th>ask</th>\n",
       "      <th>change</th>\n",
       "      <th>percentChange</th>\n",
       "      <th>volume</th>\n",
       "      <th>openInterest</th>\n",
       "      <th>impliedVolatility</th>\n",
       "      <th>inTheMoney</th>\n",
       "      <th>contractSize</th>\n",
       "      <th>currency</th>\n",
       "    </tr>\n",
       "  </thead>\n",
       "  <tbody>\n",
       "    <tr>\n",
       "      <th>0</th>\n",
       "      <td>TSLA201224C00020000</td>\n",
       "      <td>2020-11-17 14:30:49</td>\n",
       "      <td>20.0</td>\n",
       "      <td>435.10</td>\n",
       "      <td>0.0</td>\n",
       "      <td>0.0</td>\n",
       "      <td>0.0</td>\n",
       "      <td>0.0</td>\n",
       "      <td>1.0</td>\n",
       "      <td>2</td>\n",
       "      <td>0.000010</td>\n",
       "      <td>True</td>\n",
       "      <td>REGULAR</td>\n",
       "      <td>USD</td>\n",
       "    </tr>\n",
       "    <tr>\n",
       "      <th>1</th>\n",
       "      <td>TSLA201224C00060000</td>\n",
       "      <td>2020-11-16 05:11:37</td>\n",
       "      <td>60.0</td>\n",
       "      <td>349.80</td>\n",
       "      <td>0.0</td>\n",
       "      <td>0.0</td>\n",
       "      <td>0.0</td>\n",
       "      <td>0.0</td>\n",
       "      <td>NaN</td>\n",
       "      <td>2</td>\n",
       "      <td>0.000010</td>\n",
       "      <td>True</td>\n",
       "      <td>REGULAR</td>\n",
       "      <td>USD</td>\n",
       "    </tr>\n",
       "    <tr>\n",
       "      <th>2</th>\n",
       "      <td>TSLA201224C00150000</td>\n",
       "      <td>2020-11-16 14:30:19</td>\n",
       "      <td>150.0</td>\n",
       "      <td>256.10</td>\n",
       "      <td>0.0</td>\n",
       "      <td>0.0</td>\n",
       "      <td>0.0</td>\n",
       "      <td>0.0</td>\n",
       "      <td>NaN</td>\n",
       "      <td>1</td>\n",
       "      <td>0.000010</td>\n",
       "      <td>True</td>\n",
       "      <td>REGULAR</td>\n",
       "      <td>USD</td>\n",
       "    </tr>\n",
       "    <tr>\n",
       "      <th>3</th>\n",
       "      <td>TSLA201224C00200000</td>\n",
       "      <td>2020-11-18 16:58:49</td>\n",
       "      <td>200.0</td>\n",
       "      <td>270.85</td>\n",
       "      <td>0.0</td>\n",
       "      <td>0.0</td>\n",
       "      <td>0.0</td>\n",
       "      <td>0.0</td>\n",
       "      <td>NaN</td>\n",
       "      <td>1</td>\n",
       "      <td>0.000010</td>\n",
       "      <td>True</td>\n",
       "      <td>REGULAR</td>\n",
       "      <td>USD</td>\n",
       "    </tr>\n",
       "    <tr>\n",
       "      <th>4</th>\n",
       "      <td>TSLA201224C00250000</td>\n",
       "      <td>2020-11-20 20:19:23</td>\n",
       "      <td>250.0</td>\n",
       "      <td>241.10</td>\n",
       "      <td>0.0</td>\n",
       "      <td>0.0</td>\n",
       "      <td>0.0</td>\n",
       "      <td>0.0</td>\n",
       "      <td>10.0</td>\n",
       "      <td>10</td>\n",
       "      <td>0.000010</td>\n",
       "      <td>True</td>\n",
       "      <td>REGULAR</td>\n",
       "      <td>USD</td>\n",
       "    </tr>\n",
       "    <tr>\n",
       "      <th>...</th>\n",
       "      <td>...</td>\n",
       "      <td>...</td>\n",
       "      <td>...</td>\n",
       "      <td>...</td>\n",
       "      <td>...</td>\n",
       "      <td>...</td>\n",
       "      <td>...</td>\n",
       "      <td>...</td>\n",
       "      <td>...</td>\n",
       "      <td>...</td>\n",
       "      <td>...</td>\n",
       "      <td>...</td>\n",
       "      <td>...</td>\n",
       "      <td>...</td>\n",
       "    </tr>\n",
       "    <tr>\n",
       "      <th>77</th>\n",
       "      <td>TSLA201224C00660000</td>\n",
       "      <td>2020-11-20 20:02:11</td>\n",
       "      <td>660.0</td>\n",
       "      <td>8.80</td>\n",
       "      <td>0.0</td>\n",
       "      <td>0.0</td>\n",
       "      <td>0.0</td>\n",
       "      <td>0.0</td>\n",
       "      <td>61.0</td>\n",
       "      <td>59</td>\n",
       "      <td>0.250007</td>\n",
       "      <td>False</td>\n",
       "      <td>REGULAR</td>\n",
       "      <td>USD</td>\n",
       "    </tr>\n",
       "    <tr>\n",
       "      <th>78</th>\n",
       "      <td>TSLA201224C00670000</td>\n",
       "      <td>2020-11-20 20:57:53</td>\n",
       "      <td>670.0</td>\n",
       "      <td>7.70</td>\n",
       "      <td>0.0</td>\n",
       "      <td>0.0</td>\n",
       "      <td>0.0</td>\n",
       "      <td>0.0</td>\n",
       "      <td>9.0</td>\n",
       "      <td>8</td>\n",
       "      <td>0.250007</td>\n",
       "      <td>False</td>\n",
       "      <td>REGULAR</td>\n",
       "      <td>USD</td>\n",
       "    </tr>\n",
       "    <tr>\n",
       "      <th>79</th>\n",
       "      <td>TSLA201224C00680000</td>\n",
       "      <td>2020-11-20 18:04:08</td>\n",
       "      <td>680.0</td>\n",
       "      <td>7.19</td>\n",
       "      <td>0.0</td>\n",
       "      <td>0.0</td>\n",
       "      <td>0.0</td>\n",
       "      <td>0.0</td>\n",
       "      <td>13.0</td>\n",
       "      <td>12</td>\n",
       "      <td>0.250007</td>\n",
       "      <td>False</td>\n",
       "      <td>REGULAR</td>\n",
       "      <td>USD</td>\n",
       "    </tr>\n",
       "    <tr>\n",
       "      <th>80</th>\n",
       "      <td>TSLA201224C00690000</td>\n",
       "      <td>2020-11-20 20:02:51</td>\n",
       "      <td>690.0</td>\n",
       "      <td>6.95</td>\n",
       "      <td>0.0</td>\n",
       "      <td>0.0</td>\n",
       "      <td>0.0</td>\n",
       "      <td>0.0</td>\n",
       "      <td>39.0</td>\n",
       "      <td>32</td>\n",
       "      <td>0.250007</td>\n",
       "      <td>False</td>\n",
       "      <td>REGULAR</td>\n",
       "      <td>USD</td>\n",
       "    </tr>\n",
       "    <tr>\n",
       "      <th>81</th>\n",
       "      <td>TSLA201224C00700000</td>\n",
       "      <td>2020-11-20 20:59:13</td>\n",
       "      <td>700.0</td>\n",
       "      <td>6.16</td>\n",
       "      <td>0.0</td>\n",
       "      <td>0.0</td>\n",
       "      <td>0.0</td>\n",
       "      <td>0.0</td>\n",
       "      <td>259.0</td>\n",
       "      <td>208</td>\n",
       "      <td>0.250007</td>\n",
       "      <td>False</td>\n",
       "      <td>REGULAR</td>\n",
       "      <td>USD</td>\n",
       "    </tr>\n",
       "  </tbody>\n",
       "</table>\n",
       "<p>82 rows × 14 columns</p>\n",
       "</div>"
      ],
      "text/plain": [
       "         contractSymbol       lastTradeDate  strike  lastPrice  bid  ask  \\\n",
       "0   TSLA201224C00020000 2020-11-17 14:30:49    20.0     435.10  0.0  0.0   \n",
       "1   TSLA201224C00060000 2020-11-16 05:11:37    60.0     349.80  0.0  0.0   \n",
       "2   TSLA201224C00150000 2020-11-16 14:30:19   150.0     256.10  0.0  0.0   \n",
       "3   TSLA201224C00200000 2020-11-18 16:58:49   200.0     270.85  0.0  0.0   \n",
       "4   TSLA201224C00250000 2020-11-20 20:19:23   250.0     241.10  0.0  0.0   \n",
       "..                  ...                 ...     ...        ...  ...  ...   \n",
       "77  TSLA201224C00660000 2020-11-20 20:02:11   660.0       8.80  0.0  0.0   \n",
       "78  TSLA201224C00670000 2020-11-20 20:57:53   670.0       7.70  0.0  0.0   \n",
       "79  TSLA201224C00680000 2020-11-20 18:04:08   680.0       7.19  0.0  0.0   \n",
       "80  TSLA201224C00690000 2020-11-20 20:02:51   690.0       6.95  0.0  0.0   \n",
       "81  TSLA201224C00700000 2020-11-20 20:59:13   700.0       6.16  0.0  0.0   \n",
       "\n",
       "    change  percentChange  volume  openInterest  impliedVolatility  \\\n",
       "0      0.0            0.0     1.0             2           0.000010   \n",
       "1      0.0            0.0     NaN             2           0.000010   \n",
       "2      0.0            0.0     NaN             1           0.000010   \n",
       "3      0.0            0.0     NaN             1           0.000010   \n",
       "4      0.0            0.0    10.0            10           0.000010   \n",
       "..     ...            ...     ...           ...                ...   \n",
       "77     0.0            0.0    61.0            59           0.250007   \n",
       "78     0.0            0.0     9.0             8           0.250007   \n",
       "79     0.0            0.0    13.0            12           0.250007   \n",
       "80     0.0            0.0    39.0            32           0.250007   \n",
       "81     0.0            0.0   259.0           208           0.250007   \n",
       "\n",
       "    inTheMoney contractSize currency  \n",
       "0         True      REGULAR      USD  \n",
       "1         True      REGULAR      USD  \n",
       "2         True      REGULAR      USD  \n",
       "3         True      REGULAR      USD  \n",
       "4         True      REGULAR      USD  \n",
       "..         ...          ...      ...  \n",
       "77       False      REGULAR      USD  \n",
       "78       False      REGULAR      USD  \n",
       "79       False      REGULAR      USD  \n",
       "80       False      REGULAR      USD  \n",
       "81       False      REGULAR      USD  \n",
       "\n",
       "[82 rows x 14 columns]"
      ]
     },
     "execution_count": 9,
     "metadata": {},
     "output_type": "execute_result"
    }
   ],
   "source": [
    "TESLA = yf.Ticker(\"TSLA\")\n",
    "opt = TESLA.option_chain('2020-12-24')\n",
    "opt.calls"
   ]
  },
  {
   "cell_type": "code",
   "execution_count": 10,
   "metadata": {},
   "outputs": [
    {
     "name": "stdout",
     "output_type": "stream",
     "text": [
      "The implied volatility is 75.39 % for the one-month call with strike $ 490\n"
     ]
    }
   ],
   "source": [
    "impvol = newton_vol_call(S, 490, 1/12, float(opt.calls.lastPrice[opt.calls.strike == 490]), 0.0083)\n",
    "print('The implied volatility is', round(impvol*100,2) , '% for the one-month call with strike $ 490' ) "
   ]
  },
  {
   "cell_type": "code",
   "execution_count": 11,
   "metadata": {},
   "outputs": [],
   "source": [
    "import mibian"
   ]
  },
  {
   "cell_type": "code",
   "execution_count": 12,
   "metadata": {},
   "outputs": [
    {
     "name": "stdout",
     "output_type": "stream",
     "text": [
      "The implied volatility is 74.71 % for the one-month call with strike $ 490\n"
     ]
    }
   ],
   "source": [
    "c = mibian.BS([S, 490, 0.83, 31], callPrice = float(opt.calls.lastPrice[opt.calls.strike == 490]))\n",
    "c.impliedVolatility\n",
    "print('The implied volatility is', round(c.impliedVolatility,2) , '% for the one-month call with strike $ 490' ) "
   ]
  },
  {
   "cell_type": "code",
   "execution_count": 13,
   "metadata": {},
   "outputs": [],
   "source": [
    "impliedvol = np.zeros((len(opt.calls.strike),1))\n",
    "for i in range(len(opt.calls.strike)):\n",
    "    c = mibian.BS([S, opt.calls.strike[i], 0.89, 31], callPrice = opt.calls.lastPrice[i])\n",
    "    impliedvol [i] = c.impliedVolatility"
   ]
  },
  {
   "cell_type": "code",
   "execution_count": 14,
   "metadata": {},
   "outputs": [
    {
     "data": {
      "text/plain": [
       "Text(0.5, 1.0, 'Volatility Smile')"
      ]
     },
     "execution_count": 14,
     "metadata": {},
     "output_type": "execute_result"
    },
    {
     "data": {
      "image/png": "[encoded data removed]",
      "text/plain": [
       "<Figure size 432x288 with 1 Axes>"
      ]
     },
     "metadata": {
      "needs_background": "light"
     },
     "output_type": "display_data"
    }
   ],
   "source": [
    "fig = plt.figure()\n",
    "plt.plot(opt.calls.strike[40:55], impliedvol[40:55], '-')\n",
    "plt.xlabel('Strike Price')\n",
    "plt.ylabel('Implied Volatility (%)')\n",
    "plt.title('Volatility Smile')"
   ]
  },
  {
   "cell_type": "markdown",
   "metadata": {},
   "source": [
    "## Term structure of volatility"
   ]
  },
  {
   "cell_type": "markdown",
   "metadata": {},
   "source": [
    "Volatility term structures list the relationship between implied volatilities and time to expiration."
   ]
  },
  {
   "cell_type": "code",
   "execution_count": 15,
   "metadata": {},
   "outputs": [
    {
     "name": "stdout",
     "output_type": "stream",
     "text": [
      "Requirement already up-to-date: arrow in c:\\users\\gongh\\anaconda3\\lib\\site-packages (0.17.0)\n",
      "Requirement already satisfied, skipping upgrade: python-dateutil>=2.7.0 in c:\\users\\gongh\\anaconda3\\lib\\site-packages (from arrow) (2.8.1)\n",
      "Requirement already satisfied, skipping upgrade: six>=1.5 in c:\\users\\gongh\\anaconda3\\lib\\site-packages (from python-dateutil>=2.7.0->arrow) (1.15.0)\n",
      "Note: you may need to restart the kernel to use updated packages.\n"
     ]
    }
   ],
   "source": [
    "pip install -U arrow"
   ]
  },
  {
   "cell_type": "code",
   "execution_count": 16,
   "metadata": {},
   "outputs": [],
   "source": [
    "import arrow\n",
    "T = ['2020-11-27','2020-12-04','2020-12-11','2020-12-18','2020-12-24',\n",
    "     '2020-12-31','2021-01-15','2021-02-19','2021-03-19','2021-06-18',\n",
    "     '2021-07-16','2021-09-17','2022-01-21','2022-03-18','2022-06-17','2022-09-16','2023-01-20']"
   ]
  },
  {
   "cell_type": "code",
   "execution_count": 17,
   "metadata": {},
   "outputs": [],
   "source": [
    "impliedvol_t = np.zeros((len(T),1))\n",
    "now = arrow.get('2020-11-22')\n",
    "days = np.zeros((len(T),1))\n",
    "for j in range(len(T)):\n",
    "    opt = TESLA.option_chain(T[j])\n",
    "    temp = arrow.get(T[j])\n",
    "    delta = temp - now\n",
    "    days[j] = delta.days\n",
    "    c = mibian.BS([S, 490, 0.89, days[j]], callPrice = float(opt.calls.lastPrice[opt.calls.strike==490]))\n",
    "    impliedvol_t [j] = c.impliedVolatility"
   ]
  },
  {
   "cell_type": "code",
   "execution_count": 18,
   "metadata": {},
   "outputs": [
    {
     "data": {
      "text/plain": [
       "Text(0.5, 1.0, 'Term structure of volatility')"
      ]
     },
     "execution_count": 18,
     "metadata": {},
     "output_type": "execute_result"
    },
    {
     "data": {
      "image/png": "[encoded data removed]",
      "text/plain": [
       "<Figure size 432x288 with 1 Axes>"
      ]
     },
     "metadata": {
      "needs_background": "light"
     },
     "output_type": "display_data"
    }
   ],
   "source": [
    "fig = plt.figure()\n",
    "plt.plot(days, impliedvol_t, '--')\n",
    "plt.xlabel('Time to Expiry (Days)')\n",
    "plt.ylabel('Implied Volatility (%)')\n",
    "plt.title('Term structure of volatility')"
   ]
  },
  {
   "cell_type": "markdown",
   "metadata": {},
   "source": [
    "## Implied volatility surface"
   ]
  },
  {
   "cell_type": "markdown",
   "metadata": {},
   "source": [
    "It is often useful to plot implied volatility as a function of both strike price and time to maturity. The result is a two-dimensional curved surface plotted in three dimensions whereby the current market implied volatility (z-axis) for all options on the underlying is plotted against the price (y-axis) and time to maturity (x-axis \"DTM\"). "
   ]
  },
  {
   "cell_type": "code",
   "execution_count": 19,
   "metadata": {},
   "outputs": [],
   "source": [
    "K = np.linspace(430,530,11)"
   ]
  },
  {
   "cell_type": "code",
   "execution_count": 20,
   "metadata": {},
   "outputs": [],
   "source": [
    "impliedvol_s = np.zeros((len(K),len(days)))\n",
    "for j in range(len(days)):\n",
    "    for i in range(len(K)):\n",
    "        opt = TESLA.option_chain(T[j])\n",
    "        c = mibian.BS([S, K[i], 0.89, days[j]], callPrice = float(opt.calls.lastPrice[opt.calls.strike == K[i]]))\n",
    "        impliedvol_s [i,j] = c.impliedVolatility"
   ]
  },
  {
   "cell_type": "code",
   "execution_count": 21,
   "metadata": {},
   "outputs": [
    {
     "data": {
      "text/plain": [
       "array([[81.54296875, 67.26074219, 69.3359375 , 71.09069824, 72.50976562,\n",
       "        88.25683594, 75.43945312, 75.37841797, 71.65527344, 71.16699219,\n",
       "        73.34899902, 76.08032227, 75.12664795, 72.09014893, 58.28475952,\n",
       "        73.82202148, 73.99749756],\n",
       "       [67.87109375, 66.40625   , 67.1081543 , 71.2890625 , 72.08251953,\n",
       "        69.50378418, 72.98278809, 72.90649414, 71.92230225, 71.82312012,\n",
       "        77.63671875, 74.89013672, 69.83947754, 76.16424561, 75.17242432,\n",
       "        71.35009766, 69.64111328],\n",
       "       [62.25585938, 65.52124023, 68.51196289, 71.31958008, 72.35717773,\n",
       "        71.44165039, 73.47106934, 73.18115234, 72.03674316, 71.53320312,\n",
       "        70.55664062, 69.39697266, 71.0067749 , 74.70703125, 70.0378418 ,\n",
       "        70.67871094, 70.19042969],\n",
       "       [64.20898438, 67.6574707 , 68.78662109, 72.29614258, 72.35717773,\n",
       "        73.2421875 , 72.87597656, 73.30322266, 73.02856445, 72.83782959,\n",
       "        77.44598389, 71.89941406, 72.20458984, 71.2890625 , 73.54736328,\n",
       "        72.48306274, 69.94628906],\n",
       "       [66.40625   , 68.11523438, 70.3125    , 72.87597656, 72.57080078,\n",
       "        71.59423828, 73.36425781, 76.56860352, 72.87597656, 72.75390625,\n",
       "        78.9604187 , 76.96533203, 72.29614258, 75.08087158, 75.06561279,\n",
       "        69.27490234, 70.98770142],\n",
       "       [67.32177734, 69.24438477, 71.22802734, 73.73046875, 73.28796387,\n",
       "        72.49450684, 73.97460938, 74.95117188, 73.30322266, 73.66943359,\n",
       "        72.08251953, 70.3125    , 71.89941406, 72.16644287, 68.50814819,\n",
       "        73.86779785, 68.05038452],\n",
       "       [70.06835938, 71.53320312, 73.2421875 , 73.48632812, 73.48632812,\n",
       "        72.99804688, 74.40185547, 74.50866699, 73.36425781, 71.53320312,\n",
       "        73.387146  , 70.48034668, 71.01821899, 71.48742676, 70.20568848,\n",
       "        73.14300537, 72.62802124],\n",
       "       [72.35717773, 72.265625  , 72.43347168, 74.52392578, 74.55444336,\n",
       "        73.48632812, 74.82910156, 74.95117188, 73.33374023, 71.77734375,\n",
       "        71.35772705, 70.46127319, 70.61767578, 71.77734375, 70.65200806,\n",
       "        70.69396973, 69.12231445],\n",
       "       [75.1953125 , 74.00512695, 73.63891602, 75.24108887, 74.82910156,\n",
       "        74.26452637, 74.85961914, 74.75280762, 73.8067627 , 72.57080078,\n",
       "        75.57678223, 71.22802734, 71.04492188, 77.12936401, 69.76318359,\n",
       "        72.80731201, 68.29833984],\n",
       "       [78.49121094, 75.68359375, 74.95117188, 75.92773438, 75.53100586,\n",
       "        74.27978516, 75.92773438, 75.28686523, 74.01275635, 71.10595703,\n",
       "        80.14678955, 74.75280762, 70.16372681, 72.30758667, 76.55334473,\n",
       "        75.93154907, 71.59423828],\n",
       "       [82.76367188, 77.63671875, 75.8972168 , 76.8737793 , 76.171875  ,\n",
       "        74.58496094, 76.82800293, 75.17242432, 74.09667969, 72.86834717,\n",
       "        75.98876953, 76.24816895, 70.18280029, 73.97460938, 52.07824707,\n",
       "        72.22366333, 69.76318359]])"
      ]
     },
     "execution_count": 21,
     "metadata": {},
     "output_type": "execute_result"
    }
   ],
   "source": [
    "impliedvol_s"
   ]
  },
  {
   "cell_type": "code",
   "execution_count": 22,
   "metadata": {},
   "outputs": [
    {
     "data": {
      "text/plain": [
       "Text(0.5, 1.0, 'Volatility Smile')"
      ]
     },
     "execution_count": 22,
     "metadata": {},
     "output_type": "execute_result"
    },
    {
     "data": {
      "image/png": "[encoded data removed]",
      "text/plain": [
       "<Figure size 432x288 with 1 Axes>"
      ]
     },
     "metadata": {
      "needs_background": "light"
     },
     "output_type": "display_data"
    }
   ],
   "source": [
    "fig = plt.figure()\n",
    "plt.plot(K, impliedvol_s[:,0], '-')\n",
    "plt.xlabel('Strike Price')\n",
    "plt.ylabel('Implied Volatility (%)')\n",
    "plt.title('Volatility Smile')"
   ]
  },
  {
   "cell_type": "code",
   "execution_count": 23,
   "metadata": {},
   "outputs": [
    {
     "data": {
      "text/plain": [
       "Text(0.5, 1.0, 'Term structure of volatility')"
      ]
     },
     "execution_count": 23,
     "metadata": {},
     "output_type": "execute_result"
    },
    {
     "data": {
      "image/png": "[encoded data removed]",
      "text/plain": [
       "<Figure size 432x288 with 1 Axes>"
      ]
     },
     "metadata": {
      "needs_background": "light"
     },
     "output_type": "display_data"
    }
   ],
   "source": [
    "fig = plt.figure()\n",
    "plt.plot(days, impliedvol_s[0,:], '--')\n",
    "plt.xlabel('Time to Expiry (Days)')\n",
    "plt.ylabel('Implied Volatility (%)')\n",
    "plt.title('Term structure of volatility')"
   ]
  },
  {
   "cell_type": "code",
   "execution_count": 24,
   "metadata": {},
   "outputs": [
    {
     "data": {
      "image/png": "[encoded data removed]",
      "text/plain": [
       "<Figure size 720x432 with 2 Axes>"
      ]
     },
     "metadata": {
      "needs_background": "light"
     },
     "output_type": "display_data"
    }
   ],
   "source": [
    "fig = plt.figure(figsize=(10, 6))\n",
    "ax = fig.gca(projection='3d')\n",
    "K, days = np.meshgrid(K, days)\n",
    "surf = ax.plot_surface(K, days, impliedvol_s.T, rstride=2, cstride=2, cmap=plt.cm.coolwarm, linewidth=0.5, antialiased=True)\n",
    "ax.set_xlabel('Strike Price')\n",
    "ax.set_ylabel('Time to Expiry (Days)')\n",
    "ax.set_zlabel('Implied Volatility (%)')\n",
    "plt.title('The Volatility Surface')\n",
    "fig.colorbar(surf, shrink=0.5, aspect=5);"
   ]
  }
 ],
 "metadata": {
  "kernelspec": {
   "display_name": "Python 3",
   "language": "python",
   "name": "python3"
  },
  "language_info": {
   "codemirror_mode": {
    "name": "ipython",
    "version": 3
   },
   "file_extension": ".py",
   "mimetype": "text/x-python",
   "name": "python",
   "nbconvert_exporter": "python",
   "pygments_lexer": "ipython3",
   "version": "3.8.3"
  }
 },
 "nbformat": 4,
 "nbformat_minor": 4
}
