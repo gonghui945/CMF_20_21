{
 "cells": [
  {
   "cell_type": "markdown",
   "metadata": {},
   "source": [
    "# Week 8 Seminar Answers"
   ]
  },
  {
   "cell_type": "code",
   "execution_count": 1,
   "metadata": {},
   "outputs": [],
   "source": [
    "import numpy as np\n",
    "import pandas as pd\n",
    "import matplotlib.pyplot as plt\n",
    "import scipy.stats as si\n",
    "import yfinance as yf\n",
    "import os"
   ]
  },
  {
   "cell_type": "markdown",
   "metadata": {},
   "source": [
    "## Question 1"
   ]
  },
  {
   "cell_type": "code",
   "execution_count": 2,
   "metadata": {},
   "outputs": [
    {
     "name": "stdout",
     "output_type": "stream",
     "text": [
      "[*********************100%***********************]  1 of 1 completed\n"
     ]
    }
   ],
   "source": [
    "data = yf.download(\"^GSPC\", start=\"2020-03-13\", end=\"2021-03-13\")"
   ]
  },
  {
   "cell_type": "code",
   "execution_count": 3,
   "metadata": {},
   "outputs": [
    {
     "data": {
      "text/html": [
       "<div>\n",
       "<style scoped>\n",
       "    .dataframe tbody tr th:only-of-type {\n",
       "        vertical-align: middle;\n",
       "    }\n",
       "\n",
       "    .dataframe tbody tr th {\n",
       "        vertical-align: top;\n",
       "    }\n",
       "\n",
       "    .dataframe thead th {\n",
       "        text-align: right;\n",
       "    }\n",
       "</style>\n",
       "<table border=\"1\" class=\"dataframe\">\n",
       "  <thead>\n",
       "    <tr style=\"text-align: right;\">\n",
       "      <th></th>\n",
       "      <th>Open</th>\n",
       "      <th>High</th>\n",
       "      <th>Low</th>\n",
       "      <th>Close</th>\n",
       "      <th>Adj Close</th>\n",
       "      <th>Volume</th>\n",
       "    </tr>\n",
       "    <tr>\n",
       "      <th>Date</th>\n",
       "      <th></th>\n",
       "      <th></th>\n",
       "      <th></th>\n",
       "      <th></th>\n",
       "      <th></th>\n",
       "      <th></th>\n",
       "    </tr>\n",
       "  </thead>\n",
       "  <tbody>\n",
       "    <tr>\n",
       "      <th>2020-03-13</th>\n",
       "      <td>2569.989990</td>\n",
       "      <td>2711.330078</td>\n",
       "      <td>2492.370117</td>\n",
       "      <td>2711.020020</td>\n",
       "      <td>2711.020020</td>\n",
       "      <td>8258670000</td>\n",
       "    </tr>\n",
       "    <tr>\n",
       "      <th>2020-03-16</th>\n",
       "      <td>2508.590088</td>\n",
       "      <td>2562.979980</td>\n",
       "      <td>2380.939941</td>\n",
       "      <td>2386.129883</td>\n",
       "      <td>2386.129883</td>\n",
       "      <td>7781540000</td>\n",
       "    </tr>\n",
       "    <tr>\n",
       "      <th>2020-03-17</th>\n",
       "      <td>2425.659912</td>\n",
       "      <td>2553.929932</td>\n",
       "      <td>2367.040039</td>\n",
       "      <td>2529.189941</td>\n",
       "      <td>2529.189941</td>\n",
       "      <td>8358500000</td>\n",
       "    </tr>\n",
       "    <tr>\n",
       "      <th>2020-03-18</th>\n",
       "      <td>2436.500000</td>\n",
       "      <td>2453.570068</td>\n",
       "      <td>2280.520020</td>\n",
       "      <td>2398.100098</td>\n",
       "      <td>2398.100098</td>\n",
       "      <td>8755780000</td>\n",
       "    </tr>\n",
       "    <tr>\n",
       "      <th>2020-03-19</th>\n",
       "      <td>2393.479980</td>\n",
       "      <td>2466.969971</td>\n",
       "      <td>2319.780029</td>\n",
       "      <td>2409.389893</td>\n",
       "      <td>2409.389893</td>\n",
       "      <td>7946710000</td>\n",
       "    </tr>\n",
       "  </tbody>\n",
       "</table>\n",
       "</div>"
      ],
      "text/plain": [
       "                   Open         High          Low        Close    Adj Close  \\\n",
       "Date                                                                          \n",
       "2020-03-13  2569.989990  2711.330078  2492.370117  2711.020020  2711.020020   \n",
       "2020-03-16  2508.590088  2562.979980  2380.939941  2386.129883  2386.129883   \n",
       "2020-03-17  2425.659912  2553.929932  2367.040039  2529.189941  2529.189941   \n",
       "2020-03-18  2436.500000  2453.570068  2280.520020  2398.100098  2398.100098   \n",
       "2020-03-19  2393.479980  2466.969971  2319.780029  2409.389893  2409.389893   \n",
       "\n",
       "                Volume  \n",
       "Date                    \n",
       "2020-03-13  8258670000  \n",
       "2020-03-16  7781540000  \n",
       "2020-03-17  8358500000  \n",
       "2020-03-18  8755780000  \n",
       "2020-03-19  7946710000  "
      ]
     },
     "execution_count": 3,
     "metadata": {},
     "output_type": "execute_result"
    }
   ],
   "source": [
    "data.head()"
   ]
  },
  {
   "cell_type": "code",
   "execution_count": 4,
   "metadata": {},
   "outputs": [
    {
     "data": {
      "text/html": [
       "<div>\n",
       "<style scoped>\n",
       "    .dataframe tbody tr th:only-of-type {\n",
       "        vertical-align: middle;\n",
       "    }\n",
       "\n",
       "    .dataframe tbody tr th {\n",
       "        vertical-align: top;\n",
       "    }\n",
       "\n",
       "    .dataframe thead th {\n",
       "        text-align: right;\n",
       "    }\n",
       "</style>\n",
       "<table border=\"1\" class=\"dataframe\">\n",
       "  <thead>\n",
       "    <tr style=\"text-align: right;\">\n",
       "      <th></th>\n",
       "      <th>Open</th>\n",
       "      <th>High</th>\n",
       "      <th>Low</th>\n",
       "      <th>Close</th>\n",
       "      <th>Adj Close</th>\n",
       "      <th>Volume</th>\n",
       "    </tr>\n",
       "    <tr>\n",
       "      <th>Date</th>\n",
       "      <th></th>\n",
       "      <th></th>\n",
       "      <th></th>\n",
       "      <th></th>\n",
       "      <th></th>\n",
       "      <th></th>\n",
       "    </tr>\n",
       "  </thead>\n",
       "  <tbody>\n",
       "    <tr>\n",
       "      <th>2021-03-08</th>\n",
       "      <td>3844.389893</td>\n",
       "      <td>3881.060059</td>\n",
       "      <td>3819.250000</td>\n",
       "      <td>3821.350098</td>\n",
       "      <td>3821.350098</td>\n",
       "      <td>5852240000</td>\n",
       "    </tr>\n",
       "    <tr>\n",
       "      <th>2021-03-09</th>\n",
       "      <td>3851.929932</td>\n",
       "      <td>3903.760010</td>\n",
       "      <td>3851.929932</td>\n",
       "      <td>3875.439941</td>\n",
       "      <td>3875.439941</td>\n",
       "      <td>5496340000</td>\n",
       "    </tr>\n",
       "    <tr>\n",
       "      <th>2021-03-10</th>\n",
       "      <td>3891.989990</td>\n",
       "      <td>3917.350098</td>\n",
       "      <td>3885.729980</td>\n",
       "      <td>3898.810059</td>\n",
       "      <td>3898.810059</td>\n",
       "      <td>5827250000</td>\n",
       "    </tr>\n",
       "    <tr>\n",
       "      <th>2021-03-11</th>\n",
       "      <td>3915.540039</td>\n",
       "      <td>3960.270020</td>\n",
       "      <td>3915.540039</td>\n",
       "      <td>3939.340088</td>\n",
       "      <td>3939.340088</td>\n",
       "      <td>5300010000</td>\n",
       "    </tr>\n",
       "    <tr>\n",
       "      <th>2021-03-12</th>\n",
       "      <td>3924.520020</td>\n",
       "      <td>3944.989990</td>\n",
       "      <td>3915.209961</td>\n",
       "      <td>3943.340088</td>\n",
       "      <td>3943.340088</td>\n",
       "      <td>4469240000</td>\n",
       "    </tr>\n",
       "  </tbody>\n",
       "</table>\n",
       "</div>"
      ],
      "text/plain": [
       "                   Open         High          Low        Close    Adj Close  \\\n",
       "Date                                                                          \n",
       "2021-03-08  3844.389893  3881.060059  3819.250000  3821.350098  3821.350098   \n",
       "2021-03-09  3851.929932  3903.760010  3851.929932  3875.439941  3875.439941   \n",
       "2021-03-10  3891.989990  3917.350098  3885.729980  3898.810059  3898.810059   \n",
       "2021-03-11  3915.540039  3960.270020  3915.540039  3939.340088  3939.340088   \n",
       "2021-03-12  3924.520020  3944.989990  3915.209961  3943.340088  3943.340088   \n",
       "\n",
       "                Volume  \n",
       "Date                    \n",
       "2021-03-08  5852240000  \n",
       "2021-03-09  5496340000  \n",
       "2021-03-10  5827250000  \n",
       "2021-03-11  5300010000  \n",
       "2021-03-12  4469240000  "
      ]
     },
     "execution_count": 4,
     "metadata": {},
     "output_type": "execute_result"
    }
   ],
   "source": [
    "data.tail()"
   ]
  },
  {
   "cell_type": "code",
   "execution_count": 5,
   "metadata": {},
   "outputs": [
    {
     "name": "stdout",
     "output_type": "stream",
     "text": [
      "The spot price is 3943.34\n"
     ]
    }
   ],
   "source": [
    "S = data['Adj Close'][-1]\n",
    "print('The spot price is', round(S,2))"
   ]
  },
  {
   "cell_type": "markdown",
   "metadata": {},
   "source": [
    "## Question 2 "
   ]
  },
  {
   "cell_type": "markdown",
   "metadata": {},
   "source": [
    "Step 1: Find the log return of Index"
   ]
  },
  {
   "cell_type": "code",
   "execution_count": 6,
   "metadata": {},
   "outputs": [],
   "source": [
    "log_return = np.log(data['Adj Close'] / data['Adj Close'].shift(1))"
   ]
  },
  {
   "cell_type": "markdown",
   "metadata": {},
   "source": [
    "Step 2: Calculate its standard deviation and annualised  it "
   ]
  },
  {
   "cell_type": "code",
   "execution_count": 7,
   "metadata": {},
   "outputs": [
    {
     "name": "stdout",
     "output_type": "stream",
     "text": [
      "The annualised volatility is 29.12 %\n"
     ]
    }
   ],
   "source": [
    "vol = np.sqrt(252) * log_return.std()\n",
    "print('The annualised volatility is', round(vol*100,2), '%')"
   ]
  },
  {
   "cell_type": "markdown",
   "metadata": {},
   "source": [
    "And the spot value for VIX is "
   ]
  },
  {
   "cell_type": "code",
   "execution_count": 8,
   "metadata": {},
   "outputs": [
    {
     "name": "stdout",
     "output_type": "stream",
     "text": [
      "[*********************100%***********************]  1 of 1 completed\n"
     ]
    }
   ],
   "source": [
    "VIX = yf.download(\"^VIX\", start=\"2020-03-13\", end=\"2021-03-13\")"
   ]
  },
  {
   "cell_type": "code",
   "execution_count": 9,
   "metadata": {},
   "outputs": [
    {
     "name": "stdout",
     "output_type": "stream",
     "text": [
      "The market volatility is 20.69 %\n"
     ]
    }
   ],
   "source": [
    "vix = VIX['Adj Close'][-1]\n",
    "print('The market volatility is', round(vix,2), '%')"
   ]
  },
  {
   "cell_type": "markdown",
   "metadata": {},
   "source": [
    "## Question 3"
   ]
  },
  {
   "cell_type": "code",
   "execution_count": 10,
   "metadata": {},
   "outputs": [],
   "source": [
    "def euro_option_bs(S, K, T, r, vol, payoff):\n",
    "    \n",
    "    #S: spot price\n",
    "    #K: strike price\n",
    "    #T: time to maturity\n",
    "    #r: interest rate\n",
    "    #vol: volatility of underlying asset\n",
    "    #payoff: call or put\n",
    "    \n",
    "    d1 = (np.log(S / K) + (r + 0.5 * vol ** 2) * T) / (vol * np.sqrt(T))\n",
    "    d2 = (np.log(S / K) + (r - 0.5 * vol ** 2) * T) / (vol * np.sqrt(T))\n",
    "    if payoff == \"call\":\n",
    "        option_value = S * si.norm.cdf(d1, 0.0, 1.0) - K * np.exp(-r * T) * si.norm.cdf(d2, 0.0, 1.0)\n",
    "    elif payoff == \"put\":\n",
    "        option_value = - S * si.norm.cdf(-d1, 0.0, 1.0) + K * np.exp(-r * T) * si.norm.cdf(-d2, 0.0, 1.0)\n",
    "    \n",
    "    return option_value"
   ]
  },
  {
   "cell_type": "code",
   "execution_count": 11,
   "metadata": {},
   "outputs": [],
   "source": [
    "K = 4000\n",
    "T = 9/12\n",
    "r = 0.0171"
   ]
  },
  {
   "cell_type": "code",
   "execution_count": 12,
   "metadata": {},
   "outputs": [
    {
     "name": "stdout",
     "output_type": "stream",
     "text": [
      "The BS call price is 393.14\n"
     ]
    }
   ],
   "source": [
    "call = euro_option_bs(S, K, T, r, vol, 'call')\n",
    "print('The BS call price is', round(call,2))"
   ]
  },
  {
   "cell_type": "code",
   "execution_count": 13,
   "metadata": {},
   "outputs": [
    {
     "name": "stdout",
     "output_type": "stream",
     "text": [
      "The BS put price is 398.83\n"
     ]
    }
   ],
   "source": [
    "put = euro_option_bs(S, K, T, r, vol, 'put')\n",
    "print('The BS put price is', round(put,2))"
   ]
  },
  {
   "cell_type": "markdown",
   "metadata": {},
   "source": [
    "## Question 4"
   ]
  },
  {
   "cell_type": "code",
   "execution_count": 14,
   "metadata": {},
   "outputs": [],
   "source": [
    "SP500 = yf.Ticker(\"^GSPC\")"
   ]
  },
  {
   "cell_type": "code",
   "execution_count": 15,
   "metadata": {},
   "outputs": [
    {
     "name": "stdout",
     "output_type": "stream",
     "text": [
      "The Market call price is 208.0\n"
     ]
    }
   ],
   "source": [
    "opt = SP500.option_chain('2021-12-17')\n",
    "call1 = opt.calls.lastPrice[opt.calls.strike == K]\n",
    "print('The Market call price is', float(call1.values))"
   ]
  },
  {
   "cell_type": "code",
   "execution_count": 16,
   "metadata": {},
   "outputs": [
    {
     "name": "stdout",
     "output_type": "stream",
     "text": [
      "The Market put price is 326.96\n"
     ]
    }
   ],
   "source": [
    "put1 = opt.puts.lastPrice[opt.puts.strike == K]\n",
    "print('The Market put price is', float(put1.values))"
   ]
  },
  {
   "cell_type": "markdown",
   "metadata": {},
   "source": [
    "## Question 5"
   ]
  },
  {
   "cell_type": "code",
   "execution_count": 17,
   "metadata": {},
   "outputs": [
    {
     "name": "stdout",
     "output_type": "stream",
     "text": [
      "The BS call price is 278.87\n"
     ]
    }
   ],
   "source": [
    "call2 = euro_option_bs(S, K, T, r, vix*0.01, 'call')\n",
    "print('The BS call price is', round(call2,2))"
   ]
  },
  {
   "cell_type": "code",
   "execution_count": 18,
   "metadata": {},
   "outputs": [
    {
     "name": "stdout",
     "output_type": "stream",
     "text": [
      "The BS put price is 284.56\n"
     ]
    }
   ],
   "source": [
    "put2 = euro_option_bs(S, K, T, r, vix*0.01, 'put')\n",
    "print('The BS put price is', round(put2,2))"
   ]
  },
  {
   "cell_type": "markdown",
   "metadata": {},
   "source": [
    "The results using the VIX is much better."
   ]
  },
  {
   "cell_type": "markdown",
   "metadata": {},
   "source": [
    "## Question 6"
   ]
  },
  {
   "cell_type": "code",
   "execution_count": 19,
   "metadata": {},
   "outputs": [],
   "source": [
    "K = np.linspace(3000,4000,11)\n",
    "T = [1/52, 2/52, 1/12, 2/12, 1/4, 1/2, 1]"
   ]
  },
  {
   "cell_type": "code",
   "execution_count": 20,
   "metadata": {},
   "outputs": [],
   "source": [
    "call = np.zeros((len(T),len(K)))\n",
    "for i in range(len(T)):\n",
    "    for j in range(len(K)):\n",
    "        call[i,j] = euro_option_bs(S, K[j], T[i], r, vix*0.01, 'call')"
   ]
  },
  {
   "cell_type": "code",
   "execution_count": 21,
   "metadata": {},
   "outputs": [],
   "source": [
    "import matplotlib as mpl\n",
    "import matplotlib.pyplot as plt\n",
    "plt.style.use('seaborn')\n",
    "mpl.rcParams['font.family'] = 'serif'\n",
    "%matplotlib inline\n",
    "\n",
    "strike, ttm = np.meshgrid(K, T)"
   ]
  },
  {
   "cell_type": "code",
   "execution_count": 22,
   "metadata": {},
   "outputs": [
    {
     "data": {
      "image/png": "[encoded data removed]",
      "text/plain": [
       "<Figure size 720x432 with 2 Axes>"
      ]
     },
     "metadata": {
      "needs_background": "light"
     },
     "output_type": "display_data"
    }
   ],
   "source": [
    "from mpl_toolkits.mplot3d import Axes3D\n",
    "fig = plt.figure(figsize=(10, 6))\n",
    "ax = fig.gca(projection='3d')\n",
    "surf = ax.plot_surface(strike, ttm, call, rstride=2, cstride=2, cmap=plt.cm.coolwarm, linewidth=0.5, antialiased=True)\n",
    "ax.set_xlabel('Strike')\n",
    "ax.set_ylabel('Time to expiry')\n",
    "ax.set_zlabel('Call price')\n",
    "fig.colorbar(surf, shrink=0.5, aspect=5);"
   ]
  }
 ],
 "metadata": {
  "kernelspec": {
   "display_name": "Python 3",
   "language": "python",
   "name": "python3"
  },
  "language_info": {
   "codemirror_mode": {
    "name": "ipython",
    "version": 3
   },
   "file_extension": ".py",
   "mimetype": "text/x-python",
   "name": "python",
   "nbconvert_exporter": "python",
   "pygments_lexer": "ipython3",
   "version": "3.8.3"
  }
 },
 "nbformat": 4,
 "nbformat_minor": 4
}
